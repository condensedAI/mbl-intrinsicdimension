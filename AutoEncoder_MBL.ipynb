{
 "cells": [
  {
   "cell_type": "markdown",
   "metadata": {},
   "source": [
    "# AutoEncoder on MBL"
   ]
  },
  {
   "cell_type": "markdown",
   "metadata": {},
   "source": [
    "## Import packages"
   ]
  },
  {
   "cell_type": "code",
   "execution_count": 26,
   "metadata": {},
   "outputs": [],
   "source": [
    "import numpy as np\n",
    "import matplotlib.pyplot as plt\n",
    "\n",
    "from math import factorial\n",
    "from tqdm import tqdm\n",
    "\n",
    "from sklearn.model_selection import train_test_split\n",
    "from tensorflow.keras.models import Model\n",
    "from tensorflow.keras.layers import Input, add\n",
    "from tensorflow.keras.layers import Layer, Dense, Dropout, Activation, Flatten, Reshape\n",
    "from tensorflow.keras import regularizers\n",
    "from tensorflow.keras.regularizers import l2\n",
    "from tensorflow.keras.callbacks import EarlyStopping\n",
    "\n",
    "\n",
    "\n",
    "%matplotlib inline\n"
   ]
  },
  {
   "cell_type": "markdown",
   "metadata": {},
   "source": [
    "## Load data"
   ]
  },
  {
   "cell_type": "code",
   "execution_count": 138,
   "metadata": {},
   "outputs": [],
   "source": [
    "\n",
    "def load_eigs_npz(filename='data/results-L-12-W-1.0-seed-42.npz'):\n",
    "    data = np.load(filename)\n",
    "    eigvals = data[data.files[0]]\n",
    "    eigvecs = data[data.files[1]]\n",
    "\n",
    "    return eigvals, eigvecs.T\n",
    "\n",
    "def listFilenames(Ls = [8],\n",
    "                  ws = [1.0, 1.44, 1.89, 2.33, 2.78, 3.22, 3.67, 4.11, 4.56, 5.0, \n",
    "                          5.56, 6.11, 6.67, 7.22, 7.78, 8.33, 8.89, 9.44],\n",
    "                   seeds = np.arange(0,20,1)):\n",
    "    print('number of disorders',len(ws))\n",
    "    print('number of seeds',len(seeds))\n",
    "    print('L', Ls[0])\n",
    "    Files = []\n",
    "    for L in Ls:\n",
    "        for w in ws:\n",
    "            files = []\n",
    "            for seed in seeds:\n",
    "                file = 'data/results-L-{}-W-{}-seed-{}.npz'.format(L,w,seed)\n",
    "                files.append(file)\n",
    "            Files.append(files)\n",
    "    return Files\n",
    "    \n",
    "\n",
    "def load_many_eigs(Files):  \n",
    "    eigs = []\n",
    "    for files in tqdm(Files):\n",
    "        for file in files:\n",
    "            eigvals, eigvecs = load_eigs_npz(file)\n",
    "            data=eigvecs\n",
    "            #data=eigvals\n",
    "            eigs.append(data)\n",
    "    print('Eigs Loaded!')\n",
    "    eigs = np.array(eigs)\n",
    "    return eigs\n",
    "    \n"
   ]
  },
  {
   "cell_type": "code",
   "execution_count": 139,
   "metadata": {},
   "outputs": [
    {
     "name": "stderr",
     "output_type": "stream",
     "text": [
      "\r",
      "  0%|          | 0/18 [00:00<?, ?it/s]"
     ]
    },
    {
     "name": "stdout",
     "output_type": "stream",
     "text": [
      "number of disorders 18\n",
      "number of seeds 60\n",
      "L 10\n"
     ]
    },
    {
     "name": "stderr",
     "output_type": "stream",
     "text": [
      "100%|██████████| 18/18 [00:21<00:00,  1.22s/it]\n"
     ]
    },
    {
     "name": "stdout",
     "output_type": "stream",
     "text": [
      "Eigs Loaded!\n"
     ]
    }
   ],
   "source": [
    "filenames = listFilenames(Ls=[10],\n",
    "                          #ws=[1.0,1.44],\n",
    "                         seeds = np.arange(0,60,1))\n",
    "eigs = load_many_eigs(filenames)"
   ]
  },
  {
   "cell_type": "code",
   "execution_count": 140,
   "metadata": {},
   "outputs": [
    {
     "data": {
      "text/plain": [
       "(1080, 252, 252)"
      ]
     },
     "execution_count": 140,
     "metadata": {},
     "output_type": "execute_result"
    }
   ],
   "source": [
    "np.shape(eigs)"
   ]
  },
  {
   "cell_type": "markdown",
   "metadata": {},
   "source": [
    "## Format data (extraction)"
   ]
  },
  {
   "cell_type": "code",
   "execution_count": 141,
   "metadata": {},
   "outputs": [],
   "source": [
    "def trace(eigs):\n",
    "    eigs_trace = np.empty((eigs.shape[:2]))\n",
    "    for index,eig in enumerate(eigs):\n",
    "        for i in range(len(eigs[0])):\n",
    "            eigs_trace[index,i]= eig[i,i]\n",
    "    print(eigs_trace.shape)\n",
    "    return eigs_trace\n",
    "\n",
    "def first_eig_vec(eigs):\n",
    "    return eigs[:,0,:]\n",
    "\n",
    "def max_component(eigs):\n",
    "    eigs_max_component = np.empty((eigs.shape[:2]))\n",
    "    for index,eig in enumerate(eigs):\n",
    "        for i in range(len(eigs[0])):\n",
    "            eigs_max_component[index,i]= max(eig[i])\n",
    "    print(eigs_max_component.shape)\n",
    "    return eigs_max_component\n",
    "    \n",
    "def flattend(eigs):\n",
    "    eigs_flat = np.empty((eigs.shape[0],eigs.shape[1]**2 ))\n",
    "    for index,eig in enumerate(eigs):\n",
    "        eigs_flat[index]= eig.flatten()\n",
    "    print(eigs_flat.shape)\n",
    "    return eigs_flat\n",
    "    "
   ]
  },
  {
   "cell_type": "code",
   "execution_count": 142,
   "metadata": {},
   "outputs": [
    {
     "data": {
      "text/plain": [
       "(18, 60, 252)"
      ]
     },
     "execution_count": 142,
     "metadata": {},
     "output_type": "execute_result"
    }
   ],
   "source": [
    "### VECS\n",
    "## MAX component\n",
    "#data = max_component(eigs).reshape(18,20,70) # For L = 8 \n",
    "#data = max_component(eigs).reshape(18,60,252) # For L = 10\n",
    "#data = max_component(eigs).reshape(18,60,924) # For L = 12 --- straight line diagonal\n",
    "\n",
    "## Flattened\n",
    "#data = flattend(eigs).reshape(18,60,853776)  # For L = 12 --- noise\n",
    "\n",
    "\n",
    "## First eig vec\n",
    "data = first_eig_vec(eigs).reshape(18,60,252) # for L =10 --- Interesting but unexpected\n",
    "#data = first_eig_vec(eigs).reshape(18,60,924) # for L =12 --- Interesting but unexpected (same as above)\n",
    "\n",
    "\n",
    "# Trace\n",
    "#data = trace(eigs).reshape(18,60,924) # for L =12 --- noise\n",
    "\n",
    "### VALS\n",
    "#data = eigs.reshape(18,60,252)\n",
    "\n",
    "np.shape(data)"
   ]
  },
  {
   "cell_type": "code",
   "execution_count": null,
   "metadata": {},
   "outputs": [],
   "source": [
    "\n"
   ]
  },
  {
   "cell_type": "code",
   "execution_count": null,
   "metadata": {},
   "outputs": [],
   "source": []
  },
  {
   "cell_type": "markdown",
   "metadata": {},
   "source": [
    "## Build autoencoder"
   ]
  },
  {
   "cell_type": "code",
   "execution_count": 143,
   "metadata": {},
   "outputs": [],
   "source": [
    "hidden_size = 64\n",
    "input_size = data.shape[2]\n",
    "code_size = 12"
   ]
  },
  {
   "cell_type": "code",
   "execution_count": 144,
   "metadata": {},
   "outputs": [],
   "source": [
    "callback = EarlyStopping(monitor='val_loss', patience=25, restore_best_weights=True, )\n",
    "# monitor val_loss vs. loss -> typical is val_loss  \n",
    "\n"
   ]
  },
  {
   "cell_type": "code",
   "execution_count": 145,
   "metadata": {
    "scrolled": true
   },
   "outputs": [
    {
     "name": "stdout",
     "output_type": "stream",
     "text": [
      "1.0\n",
      "0.0006196897593326867\n",
      "1.44\n",
      "0.001406526193022728\n",
      "1.89\n",
      "0.0020791676361113787\n",
      "2.33\n",
      "0.002325528534129262\n",
      "2.78\n",
      "0.0025961026549339294\n",
      "3.22\n",
      "0.0036775320768356323\n",
      "3.67\n",
      "0.003470890922471881\n",
      "4.11\n",
      "0.003920167218893766\n",
      "4.56\n",
      "0.0039746412076056\n",
      "5.0\n",
      "0.0037953704595565796\n",
      "5.56\n",
      "0.003954303916543722\n",
      "6.11\n",
      "0.0037947094533592463\n",
      "6.67\n",
      "0.003898192895576358\n",
      "7.22\n",
      "0.0039922818541526794\n",
      "7.78\n",
      "0.004009131342172623\n",
      "8.33\n",
      "0.003990020602941513\n",
      "8.89\n",
      "0.00399259477853775\n",
      "9.44\n",
      "0.00399366207420826\n"
     ]
    }
   ],
   "source": [
    "min_val_loss = []\n",
    "ws = [1.0, 1.44, 1.89, 2.33, 2.78, 3.22, 3.67, 4.11, 4.56, 5.0, \n",
    "                          5.56, 6.11, 6.67, 7.22, 7.78, 8.33, 8.89, 9.44]\n",
    "for i, w in zip(data, ws):\n",
    "    print(w)\n",
    "    x = Input(shape=(input_size,))\n",
    "    hidden_enc_1 = Dense(hidden_size, activation='relu')(x)\n",
    "    hidden_enc_2 = Dense(hidden_size, activation='relu')(hidden_enc_1)\n",
    "    h = Dense(code_size, activation='relu')(hidden_enc_2)\n",
    "    hidden_dec_1 = Dense(hidden_size, activation='relu')(h)\n",
    "    hidden_dec_2 = Dense(hidden_size, activation='relu')(hidden_dec_1)\n",
    "    r = Dense(input_size, activation=None)(hidden_dec_2)\n",
    "\n",
    "    autoencoder = Model(inputs=x, outputs=r)\n",
    "    autoencoder.compile(optimizer='adam', loss='mse')\n",
    "\n",
    "    #autoencoder.summary()\n",
    "    \n",
    "    X_train, X_test = train_test_split(i, test_size=0.1, random_state=42)\n",
    "    \n",
    "    history = autoencoder.fit(X_train, X_train, \n",
    "                            batch_size=4,\n",
    "                            initial_epoch=0,\n",
    "                            epochs=500, \n",
    "                            verbose=0,\n",
    "                            callbacks=callback,\n",
    "                            validation_data=(X_test, X_test))\n",
    "    print(min(history.history['val_loss']))\n",
    "    min_val_loss.append(min(history.history['val_loss']))\n",
    "    "
   ]
  },
  {
   "cell_type": "markdown",
   "metadata": {},
   "source": [
    "## Train"
   ]
  },
  {
   "cell_type": "code",
   "execution_count": 154,
   "metadata": {},
   "outputs": [
    {
     "data": {
      "image/png": "[encoded data removed]",
      "text/plain": [
       "<Figure size 432x288 with 1 Axes>"
      ]
     },
     "metadata": {
      "needs_background": "light"
     },
     "output_type": "display_data"
    }
   ],
   "source": [
    "#ws12_42 =ws\n",
    "#min_val_loss_12_42 = min_val_loss\n",
    "\n",
    "\n",
    "plt.plot(ws, np.array(min_val_loss)/max(min_val_loss), label = '$L=10$',\n",
    "        lw=2)\n",
    "plt.plot(ws, np.array(min_val_loss_12_42)/max(min_val_loss_12_42),\n",
    "         label = '$L=12$', lw=2)\n",
    "plt.title('AE on 1. eigvec; $D_{latent}=L$  ', fontsize=14)\n",
    "plt.xlabel('Disorder', fontsize=12)\n",
    "plt.ylabel('Loss (MSE) Normalized', fontsize=12)\n",
    "plt.legend()\n",
    "plt.savefig('NEW_AE_D_is_L10_12_S60_first.png', dpi=500, bbox_inches='tight')"
   ]
  }
 ],
 "metadata": {
  "kernelspec": {
   "display_name": "Python 3",
   "language": "python",
   "name": "python3"
  },
  "language_info": {
   "codemirror_mode": {
    "name": "ipython",
    "version": 3
   },
   "file_extension": ".py",
   "mimetype": "text/x-python",
   "name": "python",
   "nbconvert_exporter": "python",
   "pygments_lexer": "ipython3",
   "version": "3.7.5"
  }
 },
 "nbformat": 4,
 "nbformat_minor": 4
}
