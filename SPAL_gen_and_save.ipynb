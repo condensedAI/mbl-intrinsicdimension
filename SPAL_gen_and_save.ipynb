{
 "cells": [
  {
   "cell_type": "code",
   "execution_count": 24,
   "metadata": {},
   "outputs": [
    {
     "data": {
      "text/plain": [
       "array(<11x5 sparse matrix of type '<class 'numpy.float64'>'\n",
       "\twith 45 stored elements in Compressed Sparse Row format>, dtype=object)"
      ]
     },
     "execution_count": 24,
     "metadata": {},
     "output_type": "execute_result"
    }
   ],
   "source": [
    "import numpy as np\n",
    "from numpy import linalg\n",
    "from scipy.sparse import csr_matrix\n",
    "\n",
    "def generate_hamiltonian(size, on_site_disorder,hopping_term, set_seed=42):\n",
    "    '''\n",
    "    Generates Hamiltonian with random uniformly distributed\n",
    "    onsite energies, flat hopping and periodic boundary conditions\n",
    "    \n",
    "    Also uses exact diagonalization to find eigenvalues and eigenvectors\n",
    "    '''\n",
    "    np.random.seed(seed=set_seed)\n",
    "    \n",
    "    H = np.eye(size)\n",
    "    onsite = on_site_disorder*(np.random.uniform(size=size)-0.5)\n",
    "    H *= onsite\n",
    "    hopping = np.eye(size, k=1)*hopping_term + np.eye(size, k=-1)*hopping_term\n",
    "    H += hopping\n",
    "    H[0,size-1] , H[size-1,0] = hopping_term, hopping_term\n",
    "    \n",
    "    (energy_levels,eigenstates)=linalg.eigh(H)\n",
    "    return H, energy_levels,eigenstates\n",
    "\n",
    "def gen_and_save(filename, size, on_site_disorder,hopping_term, pickle=True):\n",
    "    H, energy_levels, eigenstates = generate_hamiltonian(5, 1, 2)\n",
    "    data = np.vstack((H, energy_levels, eigenstates))\n",
    "    sparse = csr_matrix(data)\n",
    "    np.save(filename, sparse, allow_pickle=pickle)\n",
    "    \n",
    "\n",
    "    \n",
    "gen_and_save('test.npy',5,2,1)\n",
    "np.load('test.npy',allow_pickle=True)"
   ]
  }
 ],
 "metadata": {
  "kernelspec": {
   "display_name": "Python 3",
   "language": "python",
   "name": "python3"
  },
  "language_info": {
   "codemirror_mode": {
    "name": "ipython",
    "version": 3
   },
   "file_extension": ".py",
   "mimetype": "text/x-python",
   "name": "python",
   "nbconvert_exporter": "python",
   "pygments_lexer": "ipython3",
   "version": "3.7.5"
  }
 },
 "nbformat": 4,
 "nbformat_minor": 4
}
