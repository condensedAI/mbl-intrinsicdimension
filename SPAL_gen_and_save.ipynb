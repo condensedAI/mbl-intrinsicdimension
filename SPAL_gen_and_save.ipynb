{
 "cells": [
  {
   "cell_type": "code",
   "execution_count": 20,
   "metadata": {},
   "outputs": [
    {
     "data": {
      "text/plain": [
       "array([[-0.12545988,  2.        ,  0.        ,  0.        ,  2.        ],\n",
       "       [ 2.        ,  0.45071431,  2.        ,  0.        ,  0.        ],\n",
       "       [ 0.        ,  2.        ,  0.23199394,  2.        ,  0.        ],\n",
       "       [ 0.        ,  0.        ,  2.        ,  0.09865848,  2.        ],\n",
       "       [ 2.        ,  0.        ,  0.        ,  2.        , -0.34398136],\n",
       "       [-3.3664101 , -2.99910998,  1.21328247,  1.37694498,  4.08721812],\n",
       "       [ 0.53259422, -0.36648377,  0.53658155, -0.34316997,  0.41993767],\n",
       "       [-0.20221287,  0.56520569, -0.18522804, -0.59804212,  0.49768331],\n",
       "       [-0.14665839, -0.6084464 , -0.60720606,  0.06620749,  0.48497595],\n",
       "       [ 0.46608094,  0.41777108, -0.11269413,  0.63594429,  0.4371622 ],\n",
       "       [-0.66084282, -0.03863264,  0.54440027,  0.34025201,  0.38684779]])"
      ]
     },
     "execution_count": 20,
     "metadata": {},
     "output_type": "execute_result"
    }
   ],
   "source": [
    "import numpy as np\n",
    "from numpy import linalg\n",
    "\n",
    "def generate_hamiltonian(size, on_site_disorder,hopping_term, set_seed=42):\n",
    "    '''\n",
    "    Generates Hamiltonian with random uniformly distributed\n",
    "    onsite energies, flat hopping and periodic boundary conditions\n",
    "    \n",
    "    Also uses exact diagonalization to find eigenvalues and eigenvectors\n",
    "    '''\n",
    "    np.random.seed(seed=set_seed)\n",
    "    \n",
    "    H = np.eye(size)\n",
    "    onsite = on_site_disorder*(np.random.uniform(size=size)-0.5)\n",
    "    H *= onsite\n",
    "    hopping = np.eye(size, k=1)*hopping_term + np.eye(size, k=-1)*hopping_term\n",
    "    H += hopping\n",
    "    H[0,size-1] , H[size-1,0] = hopping_term, hopping_term\n",
    "    \n",
    "    (energy_levels,eigenstates)=linalg.eigh(H)\n",
    "    return H, energy_levels,eigenstates\n",
    "\n",
    "def gen_and_save(filename, size, on_site_disorder,hopping_term, pickle=True):\n",
    "    H, energy_levels, eigenstates = generate_hamiltonian(5, 1, 2)\n",
    "    data = np.vstack((H, energy_levels, eigenstates))\n",
    "    np.save(filename, data, allow_pickle=pickle)\n",
    "\n",
    "    \n",
    "gen_and_save('test.npy',5,2,1)\n",
    "np.load('test.npy')"
   ]
  },
  {
   "cell_type": "code",
   "execution_count": null,
   "metadata": {},
   "outputs": [],
   "source": []
  }
 ],
 "metadata": {
  "kernelspec": {
   "display_name": "Python 3",
   "language": "python",
   "name": "python3"
  },
  "language_info": {
   "codemirror_mode": {
    "name": "ipython",
    "version": 3
   },
   "file_extension": ".py",
   "mimetype": "text/x-python",
   "name": "python",
   "nbconvert_exporter": "python",
   "pygments_lexer": "ipython3",
   "version": "3.7.5"
  }
 },
 "nbformat": 4,
 "nbformat_minor": 4
}
