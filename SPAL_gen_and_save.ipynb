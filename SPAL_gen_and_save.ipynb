{
 "cells": [
  {
   "cell_type": "code",
   "execution_count": 13,
   "metadata": {},
   "outputs": [
    {
     "data": {
      "text/plain": [
       "array([[-0.14135286,  2.        ,  0.        ,  0.        ,  2.        ],\n",
       "       [ 2.        , -0.22050818,  2.        ,  0.        ,  0.        ],\n",
       "       [ 0.        ,  2.        ,  0.33045497,  2.        ,  0.        ],\n",
       "       [ 0.        ,  0.        ,  2.        ,  0.34119029,  2.        ],\n",
       "       [ 2.        ,  0.        ,  0.        ,  2.        ,  0.33224723],\n",
       "       [-3.28709138, -2.94346442,  1.28514223,  1.43830931,  4.14913572],\n",
       "       [-0.60759932, -0.23325096, -0.51004615,  0.39092054, -0.40429087],\n",
       "       [ 0.62948837, -0.19509207, -0.567933  , -0.29081981, -0.3981952 ],\n",
       "       [-0.35758991,  0.49886454,  0.08249187, -0.63212903, -0.46569475],\n",
       "       [ 0.01731066, -0.62152909,  0.60730998, -0.05933364, -0.49097459],\n",
       "       [ 0.32618592,  0.52188968,  0.20414384,  0.599581  , -0.46910747]])"
      ]
     },
     "execution_count": 13,
     "metadata": {},
     "output_type": "execute_result"
    }
   ],
   "source": [
    "import numpy as np\n",
    "from numpy import linalg\n",
    "\n",
    "def generate_hamiltonian(size, on_site_disorder,hopping_term):\n",
    "    '''\n",
    "    Generates Hamiltonian with random uniformly distributed\n",
    "    onsite energies, flat hopping and periodic boundary conditions\n",
    "    \n",
    "    Also uses exact diagonalization to find eigenvalues and eigenvectors\n",
    "    '''\n",
    "    H = np.eye(size)\n",
    "    onsite = on_site_disorder*(np.random.uniform(size=size)-0.5)\n",
    "    H *= onsite\n",
    "    hopping = np.eye(size, k=1)*hopping_term + np.eye(size, k=-1)*hopping_term\n",
    "    H += hopping\n",
    "    H[0,size-1] , H[size-1,0] = hopping_term, hopping_term\n",
    "    \n",
    "    (energy_levels,eigenstates)=linalg.eigh(H)\n",
    "    return H, energy_levels,eigenstates\n",
    "\n",
    "def gen_and_save(filename, size, on_site_disorder,hopping_term, pickle=True):\n",
    "    H, energy_levels, eigenstates = generate_hamiltonian(5, 1, 2)\n",
    "    data = np.vstack((H, energy_levels, eigenstates))\n",
    "    np.save(filename, data, allow_pickle=pickle)\n",
    "\n",
    "    \n",
    "gen_and_save('test.npy',5,2,1)\n",
    "np.load('test.npy')"
   ]
  }
 ],
 "metadata": {
  "kernelspec": {
   "display_name": "Python 3",
   "language": "python",
   "name": "python3"
  },
  "language_info": {
   "codemirror_mode": {
    "name": "ipython",
    "version": 3
   },
   "file_extension": ".py",
   "mimetype": "text/x-python",
   "name": "python",
   "nbconvert_exporter": "python",
   "pygments_lexer": "ipython3",
   "version": "3.7.5"
  }
 },
 "nbformat": 4,
 "nbformat_minor": 4
}
