{
 "cells": [
  {
   "cell_type": "markdown",
   "id": "d0dc4323",
   "metadata": {},
   "source": [
    "## Optimizing the distance function"
   ]
  },
  {
   "cell_type": "code",
   "execution_count": 445,
   "id": "66224927",
   "metadata": {},
   "outputs": [
    {
     "name": "stdout",
     "output_type": "stream",
     "text": [
      "1\n",
      "4\n",
      "21\n",
      "100\n",
      "464\n",
      "2154\n",
      "10000\n",
      "46415\n",
      "215443\n",
      "1000000\n"
     ]
    },
    {
     "data": {
      "image/png": "[encoded data removed]",
      "text/plain": [
       "<Figure size 432x288 with 1 Axes>"
      ]
     },
     "metadata": {
      "needs_background": "light"
     },
     "output_type": "display_data"
    }
   ],
   "source": [
    "import time\n",
    "import numpy as np\n",
    "import pandas as pd\n",
    "import matplotlib.pyplot as plt\n",
    "\n",
    "def distance_between_vectors_euclidean_dotProduct(a,b):\n",
    "    return np.sqrt(np.dot(a-b,a-b))\n",
    "\n",
    "\n",
    "def distance_between_vectors_euclidean_typical(a,b):\n",
    "    return np.sqrt(sum((a-b)**2) )\n",
    "    \n",
    "\n",
    "\n",
    "methods = [distance_between_vectors_euclidean_typical, \n",
    "           distance_between_vectors_euclidean_dotProduct]\n",
    "\n",
    "data = {}\n",
    "sizes=np.logspace(0,5,10)\n",
    "for size in sizes:\n",
    "    size = int(size)\n",
    "    print(size)\n",
    "    times = [[],[]]\n",
    "    for _ in range(100):\n",
    "        a, b = np.random.rand(size), np.random.rand(size)\n",
    "        for index, func in enumerate(methods):\n",
    "            start_time = time.time()\n",
    "            func(a,b)\n",
    "            end_time = time.time()\n",
    "            delta_time = end_time - start_time\n",
    "            times[index].append(delta_time)\n",
    "            \n",
    "    means = np.mean(times,axis = 1)\n",
    "    stds = np.std(times,axis = 1)\n",
    "    data[size] = {'time':\n",
    "                  {'Typical' : means[0],\n",
    "                  'Dotproduct': means[1]},\n",
    "                  'std' : \n",
    "                  {'Typical' : stds[0],\n",
    "                  'Dotproduct': stds[1]}}\n",
    "dict_of_df = {k: pd.DataFrame(v) for k,v in data.items()}\n",
    "df = pd.concat(dict_of_df, axis=1).T.reset_index()\n",
    "df.head()\n",
    "\n",
    "time_typical = df[df['level_1']=='time']['Typical'].values\n",
    "time_Dotproduct = df[df['level_1']=='time']['Dotproduct'].values\n",
    "\n",
    "std_typical = df[df['level_1']=='std']['Typical'].values\n",
    "std_Dotproduct = df[df['level_1']=='std']['Dotproduct'].values\n",
    "\n",
    "plt.errorbar(sizes, time_typical, yerr= std_typical, label='typical')\n",
    "plt.errorbar(sizes, time_Dotproduct, yerr= std_Dotproduct, label = 'DotProduct')\n",
    "\n",
    "plt.yscale('log')\n",
    "plt.xscale('log')\n",
    "plt.legend()\n",
    "plt.xlabel('Vector length', fontsize=13)\n",
    "plt.ylabel('time to determine distance', fontsize=13)\n",
    "plt.show()"
   ]
  },
  {
   "cell_type": "markdown",
   "id": "512bee42",
   "metadata": {},
   "source": [
    "In the first cell, we show that distance via dotProduct is approx. 2x faster than typical method"
   ]
  },
  {
   "cell_type": "code",
   "execution_count": 540,
   "id": "953bc61a",
   "metadata": {},
   "outputs": [
    {
     "data": {
      "text/plain": [
       "array([[0.9602066 , 0.92045173, 0.42194045, 0.19024539],\n",
       "       [0.78676983, 0.90269627, 0.30923476, 0.08826231],\n",
       "       [0.86000916, 0.79796547, 0.04651082, 0.76277399],\n",
       "       [0.10507158, 0.82342387, 0.5851971 , 0.52359169]])"
      ]
     },
     "execution_count": 540,
     "metadata": {},
     "output_type": "execute_result"
    }
   ],
   "source": [
    "# Does this work for a matrix?\n",
    "size = 4\n",
    "A = np.random.rand(size,size)\n",
    "A"
   ]
  },
  {
   "cell_type": "code",
   "execution_count": 541,
   "id": "c4f82918",
   "metadata": {},
   "outputs": [
    {
     "name": "stdout",
     "output_type": "stream",
     "text": [
      "[2 3 0 1]\n",
      "[0.5  0.25 1.   0.75]\n",
      "[0.25 0.   0.75 0.5 ]\n"
     ]
    },
    {
     "data": {
      "text/plain": [
       "(1.2971769386924235, 0.4135697166618778)"
      ]
     },
     "execution_count": 541,
     "metadata": {},
     "output_type": "execute_result"
    }
   ],
   "source": [
    "nn2_new(A)"
   ]
  },
  {
   "cell_type": "code",
   "execution_count": 544,
   "id": "6d72a311",
   "metadata": {},
   "outputs": [],
   "source": [
    "from scipy.stats import chisquare\n",
    "\n",
    "def nn2_new(A):\n",
    "    N  = len(A)\n",
    "    #Make distance matrix\n",
    "    dist_M = np.array([[distance_between_vectors_euclidean_dotProduct(a,b) if index0 < index1 else 0 for index1, b in enumerate(A)] for index0, a in enumerate(A)])\n",
    "    dist_M += dist_M.T + np.eye(N)*42\n",
    "    \n",
    "    # Calculate mu\n",
    "    argsorted = np.sort(dist_M, axis=1)\n",
    "    mu =  argsorted[:,1]/argsorted[:,0]\n",
    "    x = np.log(mu)\n",
    "    \n",
    "    # Permutation\n",
    "    y = np.array([1-dict(zip(np.argsort(mu),(np.arange(1,N+1)/N)))[i] for i in range(N)])\n",
    "    \n",
    "    print(y)\n",
    "    # Drop bad values (negative y's)\n",
    "    x,y  = x[y>0], y[y>0]\n",
    "    y = -1*np.log(y)\n",
    "    \n",
    "    #fit line through origin to get the dimension\n",
    "    d = np.linalg.lstsq(np.vstack([x, np.zeros(len(x))]).T, y, rcond=None)[0][0]\n",
    "    \n",
    "    # Goodness\n",
    "    _, pvalue = chisquare(f_obs=x*d , f_exp=y, ddof=1)\n",
    "    \n",
    "    return d, pvalue"
   ]
  },
  {
   "cell_type": "markdown",
   "id": "a6e56bd9",
   "metadata": {},
   "source": [
    "y = -\\log(1-[k/N for k in ])"
   ]
  },
  {
   "cell_type": "code",
   "execution_count": 545,
   "id": "78d6db45",
   "metadata": {},
   "outputs": [
    {
     "name": "stdout",
     "output_type": "stream",
     "text": [
      "[0.25 0.   0.75 0.5 ]\n"
     ]
    },
    {
     "data": {
      "text/plain": [
       "1.2971769386924235"
      ]
     },
     "execution_count": 545,
     "metadata": {},
     "output_type": "execute_result"
    }
   ],
   "source": [
    "nn2(A)"
   ]
  },
  {
   "cell_type": "code",
   "execution_count": 546,
   "id": "a958ee15",
   "metadata": {},
   "outputs": [],
   "source": [
    "def nn2(data, plot=False, return_xy = False,eps=.00, xshift=False, del_vals=2):\n",
    "    '''\n",
    "    Find intrinsic dimension (ID) via 2-nearest-neighbours\n",
    "\n",
    "    https://www.nature.com/articles/s41598-017-11873-y\n",
    "    https://arxiv.org/pdf/2006.12953.pdf\n",
    "    _______________\n",
    "    Parameters:\n",
    "        eigvecs\n",
    "        plot : create a plot; boolean; dafault=False\n",
    "    _______________\n",
    "    Returns:\n",
    "        m : Slope\n",
    "    \n",
    "    '''\n",
    "\n",
    "    N = len(data)\n",
    "    \n",
    "    distance_matrix = np.zeros((N, N))\n",
    "    # Making the distance matrix: distance from each eigvec to all others\n",
    "    for i, eigvec1 in enumerate(data):\n",
    "        for j, eigvec2 in enumerate(data):\n",
    "            if j <= i:\n",
    "                pass\n",
    "            else:\n",
    "                distance = np.sum((eigvec1-eigvec2)**2)**.5\n",
    "                distance_matrix[i,j], distance_matrix[j,i] = distance, distance\n",
    "    #print(distance_matrix) # To see how it fills √\n",
    "\n",
    "    # table of distances - state and \\mu= r_2/r_1\n",
    "    mu = np.zeros((N,2))\n",
    "    for index, line in enumerate(distance_matrix):\n",
    "        r1, r2 = sorted(line)[1:3]\n",
    "        mu[index,0] = index+1\n",
    "        mu[index,1] = r2/(r1+eps)\n",
    "    if xshift == True:\n",
    "        mu[:,1] -= min(mu[:,1])+1\n",
    "    #print('mu:',mu)\n",
    "        \n",
    "    #permutation function\n",
    "    \n",
    "    #print(1,range(1,len(mu)+1))\n",
    "    #print(2,np.array(sorted(mu, key=lambda x: x[1])))\n",
    "    #print(3,dict(zip(range(1,len(mu)+1), np.array(sorted(mu, key=lambda x: x[1]))[:,0].astype(int))))\n",
    "    \n",
    "    \n",
    "    sigma_i = dict(zip(range(1,len(mu)+1), np.array(sorted(mu, key=lambda x: x[1]))[:,0].astype(int)))\n",
    "    mu = dict(mu)\n",
    "    #cdf F(mu_{sigma(i)})\n",
    "    F_i = {}\n",
    "    for i in mu:\n",
    "        F_i[sigma_i[i]] = i/N\n",
    "        \n",
    "    #print(F_i)\n",
    "\n",
    "    #fitting coordinates\n",
    "    x = np.log([mu[i] for i in sorted(mu.keys())])\n",
    "    y = np.array([1-F_i[i] for i in sorted(mu.keys())])\n",
    "    print(y)\n",
    "    #avoid having log(0)\n",
    "    x = x[y>0]\n",
    "    y = y[y>0]\n",
    "    \n",
    "\n",
    "\t\n",
    "\n",
    "    y = -1*np.log(y)\n",
    "    #y2 = -1*np.log(y2)\n",
    "\t\n",
    "    #fit line through origin to get the dimension\n",
    "    d = np.linalg.lstsq(np.vstack([x, np.zeros(len(x))]).T, y, rcond=None)[0][0]\n",
    "\n",
    "    if plot==True:\n",
    "        #fig, ax = plt.subplots(2,1, sharex=True)\n",
    "        plt.scatter(x,y, c='g')\n",
    "        plt.plot(x,x*d, c='r', ls='--')\n",
    "        \n",
    "      #ax[plot_index].set_xlabel('log($\\mu$)', fontsize=12)\n",
    "        #plt.text(0,5,'w={}'.format(w), fontsize=13)\n",
    "        #plt.text(0,4.5,'d={}'.format(round(d,3)), fontsize=13)\n",
    "        \n",
    "            \n",
    "    if return_xy:\n",
    "        return x,y, d#,x2,y2\n",
    "    else:\n",
    "        return d"
   ]
  },
  {
   "cell_type": "code",
   "execution_count": 500,
   "id": "70036a86",
   "metadata": {},
   "outputs": [
    {
     "name": "stdout",
     "output_type": "stream",
     "text": [
      "10\n",
      "13\n",
      "18\n",
      "25\n",
      "34\n",
      "46\n",
      "63\n",
      "85\n",
      "116\n",
      "158\n"
     ]
    }
   ],
   "source": [
    "# Now lets compare these two models:\n",
    "\n",
    "sizes = np.logspace(1,2.2,10)\n",
    "\n",
    "times = [[],[]]\n",
    "\n",
    "for size in sizes:\n",
    "    size=int(size)\n",
    "    print(size)\n",
    "    for _ in range(20):\n",
    "        M = np.random.rand(size,size)\n",
    "        start_time = time.time()\n",
    "        d = nn2(M)\n",
    "        end_time = time.time()\n",
    "        delta_time = end_time - start_time\n",
    "        times[0].append(delta_time)\n",
    "        \n",
    "        start_time = time.time()\n",
    "        d = nn2_new(M)\n",
    "        end_time = time.time()\n",
    "        delta_time = end_time - start_time\n",
    "        times[1].append(delta_time)\n",
    "        \n",
    "times = np.array(times).reshape(2,len(sizes), 20)"
   ]
  },
  {
   "cell_type": "code",
   "execution_count": 501,
   "id": "c75e26b2",
   "metadata": {},
   "outputs": [
    {
     "data": {
      "image/png": "[encoded data removed]",
      "text/plain": [
       "<Figure size 432x288 with 1 Axes>"
      ]
     },
     "metadata": {
      "needs_background": "light"
     },
     "output_type": "display_data"
    }
   ],
   "source": [
    "plt.errorbar(sizes, np.mean(times[0], axis=1), yerr=np.std(times[0], axis=1), label = 'old')\n",
    "plt.errorbar(sizes, np.mean(times[1], axis=1), yerr=np.std(times[1], axis=1), label = 'new')\n",
    "plt.yscale('log')\n",
    "plt.xscale('log')\n",
    "\n",
    "plt.legend()\n",
    "plt.xlabel('Matrix size', fontsize=13)\n",
    "plt.ylabel('time to run 2nn', fontsize=13)\n",
    "plt.show()"
   ]
  },
  {
   "cell_type": "code",
   "execution_count": null,
   "id": "94823228",
   "metadata": {},
   "outputs": [],
   "source": []
  },
  {
   "cell_type": "code",
   "execution_count": null,
   "id": "0c0aee91",
   "metadata": {},
   "outputs": [],
   "source": []
  },
  {
   "cell_type": "code",
   "execution_count": null,
   "id": "58736fe4",
   "metadata": {},
   "outputs": [],
   "source": []
  }
 ],
 "metadata": {
  "kernelspec": {
   "display_name": "Python 3",
   "language": "python",
   "name": "python3"
  },
  "language_info": {
   "codemirror_mode": {
    "name": "ipython",
    "version": 3
   },
   "file_extension": ".py",
   "mimetype": "text/x-python",
   "name": "python",
   "nbconvert_exporter": "python",
   "pygments_lexer": "ipython3",
   "version": "3.7.5"
  }
 },
 "nbformat": 4,
 "nbformat_minor": 5
}
