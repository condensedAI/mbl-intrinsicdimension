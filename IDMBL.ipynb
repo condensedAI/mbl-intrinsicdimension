{
 "cells": [
  {
   "cell_type": "markdown",
   "id": "7b08110b",
   "metadata": {},
   "source": [
    "# Welcome\n",
    "\n",
    "We have assembled the code neccessary for repuducing our plots from the paper\n",
    "\n",
    "The code is presented in 5 sections:\n",
    "1. [Optional]: Problem sketch: intuition for what ID is?\n",
    "2. EigenComponent Dominance \n",
    "3. ID Scaling Collapse -> inset in not-collapsed\n",
    "4. \"How to go from eigenstate to ID\"-figure, with subplot with 2NN fit\n",
    "5. !! fig 4: 2NN degen. mitigation"
   ]
  },
  {
   "cell_type": "markdown",
   "id": "bd49969f",
   "metadata": {},
   "source": [
    "## 1. Problem Sketch"
   ]
  },
  {
   "cell_type": "code",
   "execution_count": null,
   "id": "0d5f89d5",
   "metadata": {},
   "outputs": [],
   "source": []
  },
  {
   "cell_type": "markdown",
   "id": "eb8c9af5",
   "metadata": {},
   "source": [
    "## 2. EigenComponent Dominance"
   ]
  },
  {
   "cell_type": "code",
   "execution_count": null,
   "id": "4cef91ec",
   "metadata": {},
   "outputs": [],
   "source": []
  }
 ],
 "metadata": {
  "kernelspec": {
   "display_name": "Python 3.7.5 64-bit ('anaconda3': virtualenv)",
   "language": "python",
   "name": "python37564bitanaconda3virtualenvbfdec48a465945a5815332ec0b3e2c19"
  },
  "language_info": {
   "codemirror_mode": {
    "name": "ipython",
    "version": 3
   },
   "file_extension": ".py",
   "mimetype": "text/x-python",
   "name": "python",
   "nbconvert_exporter": "python",
   "pygments_lexer": "ipython3",
   "version": "3.7.5"
  }
 },
 "nbformat": 4,
 "nbformat_minor": 5
}
