{
 "cells": [
  {
   "cell_type": "markdown",
   "metadata": {},
   "source": [
    "# R-statistic"
   ]
  },
  {
   "cell_type": "markdown",
   "metadata": {},
   "source": [
    "We start by writing up some functions for level spacing and performing the r-statistic on a list of floats"
   ]
  },
  {
   "cell_type": "code",
   "execution_count": 1,
   "metadata": {},
   "outputs": [
    {
     "name": "stdout",
     "output_type": "stream",
     "text": [
      "List =  [1, 6, 4, 2] \n",
      "Spaces =  [5, 2, 2, 1] \n",
      "r =  [0.4, 1.0, 0.5, 1.0]\n"
     ]
    }
   ],
   "source": [
    "def level_spaces(lst):\n",
    "    return [abs(lst[i]-lst[i+1]) for i in range(len(lst)-1)] + [lst[len(lst)-1]- lst[0]]\n",
    "def r_stat(spaces):\n",
    "    return [min(spaces[i:i+2])/max(spaces[i:i+2]) for i in range(len(spaces))]\n",
    "\n",
    "lst = [1,6,4,2]\n",
    "spaces = level_spaces(lst)\n",
    "r = r_stat(spaces)\n",
    "print('List = ', lst,'\\nSpaces = ', spaces, '\\nr = ',r)"
   ]
  },
  {
   "cell_type": "markdown",
   "metadata": {},
   "source": [
    "We then apply it to the the GOE and Possoin distribution, as to see if we made a mistake"
   ]
  },
  {
   "cell_type": "code",
   "execution_count": 2,
   "metadata": {},
   "outputs": [
    {
     "ename": "NameError",
     "evalue": "name 'mu' is not defined",
     "output_type": "error",
     "traceback": [
      "\u001b[0;31m---------------------------------------------------------------------------\u001b[0m",
      "\u001b[0;31mNameError\u001b[0m                                 Traceback (most recent call last)",
      "\u001b[0;32m<ipython-input-2-04477cf9bf10>\u001b[0m in \u001b[0;36m<module>\u001b[0;34m\u001b[0m\n\u001b[1;32m      2\u001b[0m \u001b[0;32mimport\u001b[0m \u001b[0mnumpy\u001b[0m \u001b[0;32mas\u001b[0m \u001b[0mnp\u001b[0m\u001b[0;34m\u001b[0m\u001b[0;34m\u001b[0m\u001b[0m\n\u001b[1;32m      3\u001b[0m \u001b[0;34m\u001b[0m\u001b[0m\n\u001b[0;32m----> 4\u001b[0;31m \u001b[0mpoisson\u001b[0m \u001b[0;34m=\u001b[0m \u001b[0;34m[\u001b[0m\u001b[0mnp\u001b[0m\u001b[0;34m.\u001b[0m\u001b[0mexp\u001b[0m\u001b[0;34m(\u001b[0m\u001b[0;34m-\u001b[0m\u001b[0mmu\u001b[0m\u001b[0;34m)\u001b[0m\u001b[0;34m*\u001b[0m\u001b[0mmu\u001b[0m\u001b[0;34m**\u001b[0m\u001b[0mk\u001b[0m\u001b[0;34m/\u001b[0m\u001b[0mfactorial\u001b[0m\u001b[0;34m(\u001b[0m\u001b[0mk\u001b[0m\u001b[0;34m)\u001b[0m \u001b[0;32mfor\u001b[0m \u001b[0mk\u001b[0m \u001b[0;32min\u001b[0m \u001b[0mrange\u001b[0m\u001b[0;34m(\u001b[0m\u001b[0;36m10\u001b[0m\u001b[0;34m)\u001b[0m\u001b[0;34m]\u001b[0m\u001b[0;34m\u001b[0m\u001b[0;34m\u001b[0m\u001b[0m\n\u001b[0m\u001b[1;32m      5\u001b[0m \u001b[0mplt\u001b[0m\u001b[0;34m.\u001b[0m\u001b[0mplot\u001b[0m\u001b[0;34m(\u001b[0m\u001b[0mrange\u001b[0m\u001b[0;34m(\u001b[0m\u001b[0;36m10\u001b[0m\u001b[0;34m)\u001b[0m\u001b[0;34m,\u001b[0m \u001b[0mpoisson\u001b[0m\u001b[0;34m)\u001b[0m\u001b[0;34m\u001b[0m\u001b[0;34m\u001b[0m\u001b[0m\n\u001b[1;32m      6\u001b[0m \u001b[0;31m#r_stat(poisson)\u001b[0m\u001b[0;34m\u001b[0m\u001b[0;34m\u001b[0m\u001b[0;34m\u001b[0m\u001b[0m\n",
      "\u001b[0;32m<ipython-input-2-04477cf9bf10>\u001b[0m in \u001b[0;36m<listcomp>\u001b[0;34m(.0)\u001b[0m\n\u001b[1;32m      2\u001b[0m \u001b[0;32mimport\u001b[0m \u001b[0mnumpy\u001b[0m \u001b[0;32mas\u001b[0m \u001b[0mnp\u001b[0m\u001b[0;34m\u001b[0m\u001b[0;34m\u001b[0m\u001b[0m\n\u001b[1;32m      3\u001b[0m \u001b[0;34m\u001b[0m\u001b[0m\n\u001b[0;32m----> 4\u001b[0;31m \u001b[0mpoisson\u001b[0m \u001b[0;34m=\u001b[0m \u001b[0;34m[\u001b[0m\u001b[0mnp\u001b[0m\u001b[0;34m.\u001b[0m\u001b[0mexp\u001b[0m\u001b[0;34m(\u001b[0m\u001b[0;34m-\u001b[0m\u001b[0mmu\u001b[0m\u001b[0;34m)\u001b[0m\u001b[0;34m*\u001b[0m\u001b[0mmu\u001b[0m\u001b[0;34m**\u001b[0m\u001b[0mk\u001b[0m\u001b[0;34m/\u001b[0m\u001b[0mfactorial\u001b[0m\u001b[0;34m(\u001b[0m\u001b[0mk\u001b[0m\u001b[0;34m)\u001b[0m \u001b[0;32mfor\u001b[0m \u001b[0mk\u001b[0m \u001b[0;32min\u001b[0m \u001b[0mrange\u001b[0m\u001b[0;34m(\u001b[0m\u001b[0;36m10\u001b[0m\u001b[0;34m)\u001b[0m\u001b[0;34m]\u001b[0m\u001b[0;34m\u001b[0m\u001b[0;34m\u001b[0m\u001b[0m\n\u001b[0m\u001b[1;32m      5\u001b[0m \u001b[0mplt\u001b[0m\u001b[0;34m.\u001b[0m\u001b[0mplot\u001b[0m\u001b[0;34m(\u001b[0m\u001b[0mrange\u001b[0m\u001b[0;34m(\u001b[0m\u001b[0;36m10\u001b[0m\u001b[0;34m)\u001b[0m\u001b[0;34m,\u001b[0m \u001b[0mpoisson\u001b[0m\u001b[0;34m)\u001b[0m\u001b[0;34m\u001b[0m\u001b[0;34m\u001b[0m\u001b[0m\n\u001b[1;32m      6\u001b[0m \u001b[0;31m#r_stat(poisson)\u001b[0m\u001b[0;34m\u001b[0m\u001b[0;34m\u001b[0m\u001b[0;34m\u001b[0m\u001b[0m\n",
      "\u001b[0;31mNameError\u001b[0m: name 'mu' is not defined"
     ]
    }
   ],
   "source": [
    "from math import factorial\n",
    "import numpy as np\n",
    "\n",
    "poisson = [np.exp(-mu)*mu**k/factorial(k) for k in range(10)]\n",
    "plt.plot(range(10), poisson)\n",
    "#r_stat(poisson)"
   ]
  },
  {
   "cell_type": "markdown",
   "metadata": {},
   "source": [
    "Next up lets look at using MBL data"
   ]
  },
  {
   "cell_type": "code",
   "execution_count": 4,
   "metadata": {},
   "outputs": [
    {
     "name": "stderr",
     "output_type": "stream",
     "text": [
      "100%|██████████| 20/20 [00:21<00:00,  1.09s/it]\n",
      "100%|██████████| 20/20 [00:27<00:00,  1.36s/it]\n",
      "100%|██████████| 20/20 [00:41<00:00,  2.07s/it]\n",
      "100%|██████████| 20/20 [01:24<00:00,  4.20s/it]\n"
     ]
    }
   ],
   "source": [
    "\n",
    "import matplotlib.pyplot as plt\n",
    "from tqdm import tqdm\n",
    "\n",
    "def load_vals(filename='results1/results-L-2-W-0.1-seed-0.npz'):\n",
    "    data = np.load(filename)\n",
    "    eigvals = data[data.files[0]]\n",
    "    return eigvals\n",
    "\n",
    "location = '/Users/antongolles/results1/results'\n",
    "\n",
    "Ls = [6,8,10,12]\n",
    "ws = [0.3, 0.6, 0.8999999999999999, 1.2,  1.5, 1.8,\n",
    "                      2.0999999999999996, 2.4, 2.6999999999999997, \n",
    "                      2.9999999999999996, 3.3, 3.5999999999999996, \n",
    "                      3.8999999999999995, 4.2, 4.5, 4.8, 5.1, \n",
    "                      5.3999999999999995, 5.699999999999999, 6.0]\n",
    "num_seeds = 1000\n",
    "r_for_Ls = []\n",
    "for L in Ls:\n",
    "    r_for_ws = []\n",
    "    for w in tqdm(ws):\n",
    "        r_for_seeds = []\n",
    "        for seed in range(num_seeds):\n",
    "            file = location+'-L-{}-W-{}-seed-{}.npz'.format(L,w,seed)\n",
    "            lst = load_vals(file)\n",
    "            spaces = level_spaces(lst)\n",
    "            r = r_stat(spaces)\n",
    "            r_for_seeds.append(np.mean(r))\n",
    "        r_for_ws.append(np.mean(r_for_seeds))\n",
    "    r_for_Ls.append(r_for_ws)\n",
    "\n",
    "r_for_Ls = np.array(r_for_Ls)"
   ]
  },
  {
   "cell_type": "code",
   "execution_count": 41,
   "metadata": {},
   "outputs": [
    {
     "data": {
      "image/png": "[encoded data removed]",
      "text/plain": [
       "<Figure size 720x288 with 1 Axes>"
      ]
     },
     "metadata": {
      "needs_background": "light"
     },
     "output_type": "display_data"
    }
   ],
   "source": [
    "plt.figure(figsize=(10,4))\n",
    "\n",
    "colors = 'black, red, green, orange,lightblue,  black, red'.split(', ')\n",
    "for index, L in enumerate(Ls[1:]):\n",
    "    plt.plot(ws[1:], r_for_Ls[1+index][1:], label=L,\n",
    "            lw=3, c=colors[index])\n",
    "\n",
    "mu=1\n",
    "\n",
    "\n",
    "\n",
    "plt.legend(fontsize=12)\n",
    "plt.title('r-statistic on {} realizations of Hubbard Hamiltonian'.format(num_seeds), fontsize=14)\n",
    "plt.ylabel('r', fontsize=12)\n",
    "plt.xlabel('Disorder strength, $W$', fontsize=12)\n",
    "#plt.show()\n",
    "\n",
    "plt.xscale('log' )\n",
    "plt.xticks([1,2,3,4,5], [1,2,3,4,5])\n",
    "#plt.grid()\n",
    "\n",
    "#plt.show()\n",
    "plt.savefig('figures/R_stat.png', dpi=500, bbox_inches='tight')"
   ]
  },
  {
   "cell_type": "markdown",
   "metadata": {},
   "source": [
    "where does 8 first cross 10"
   ]
  },
  {
   "cell_type": "code",
   "execution_count": 30,
   "metadata": {},
   "outputs": [
    {
     "data": {
      "text/plain": [
       "([<matplotlib.axis.XTick at 0x117626be0>,\n",
       "  <matplotlib.axis.XTick at 0x117626c10>,\n",
       "  <matplotlib.axis.XTick at 0x1176409d0>,\n",
       "  <matplotlib.axis.XTick at 0x1177f3f70>,\n",
       "  <matplotlib.axis.XTick at 0x1177fd4c0>],\n",
       " [Text(0, 0, '1'),\n",
       "  Text(0, 0, '2'),\n",
       "  Text(0, 0, '3'),\n",
       "  Text(0, 0, '4'),\n",
       "  Text(0, 0, '5')])"
      ]
     },
     "execution_count": 30,
     "metadata": {},
     "output_type": "execute_result"
    },
    {
     "data": {
      "image/png": "[encoded data removed]",
      "text/plain": [
       "<Figure size 432x288 with 1 Axes>"
      ]
     },
     "metadata": {
      "needs_background": "light"
     },
     "output_type": "display_data"
    }
   ],
   "source": [
    "\n",
    "def func(i,index):\n",
    "    if i == True:\n",
    "        return index\n",
    "\n",
    "crossings = []\n",
    "for j in range(len(Ls)-1):\n",
    "    larger_than_prev =[func(i, index) for index, i in enumerate(np.array(r_for_Ls[j+1]) - np.array(r_for_Ls[j])< 0)]\n",
    "    crossing_index = min(x for x in larger_than_prev if x is not None)\n",
    "    crossings.append(ws[crossing_index])\n",
    "\n",
    "plt.scatter(Ls[:len(Ls)-1], crossings)\n",
    "\n",
    "\n",
    "plt.title('r-statistic on {} realizations of Hubbard Hamiltonian'.format(num_seeds), fontsize=14)\n",
    "plt.ylabel('r', fontsize=12)\n",
    "plt.xlabel('Disorder strength, $W$', fontsize=12)\n",
    "#plt.show()\n",
    "\n",
    "\n",
    "plt.xticks([1,2,3,4,5], [1,2,3,4,5])\n",
    "#plt.grid()\n",
    "\n",
    "#plt.show()\n",
    "#plt.savefig('figures/R_stat.png', dpi=500, bbox_inches='tight')\n"
   ]
  },
  {
   "cell_type": "code",
   "execution_count": null,
   "metadata": {},
   "outputs": [],
   "source": []
  },
  {
   "cell_type": "code",
   "execution_count": null,
   "metadata": {},
   "outputs": [],
   "source": []
  },
  {
   "cell_type": "code",
   "execution_count": null,
   "metadata": {},
   "outputs": [],
   "source": []
  }
 ],
 "metadata": {
  "kernelspec": {
   "display_name": "Python 3",
   "language": "python",
   "name": "python3"
  },
  "language_info": {
   "codemirror_mode": {
    "name": "ipython",
    "version": 3
   },
   "file_extension": ".py",
   "mimetype": "text/x-python",
   "name": "python",
   "nbconvert_exporter": "python",
   "pygments_lexer": "ipython3",
   "version": "3.8.3"
  }
 },
 "nbformat": 4,
 "nbformat_minor": 4
}
