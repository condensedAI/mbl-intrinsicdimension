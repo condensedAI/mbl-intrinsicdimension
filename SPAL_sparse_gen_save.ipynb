{
 "cells": [
  {
   "cell_type": "code",
   "execution_count": 2,
   "metadata": {},
   "outputs": [],
   "source": [
    "from scipy.sparse import eye, diags, spmatrix, linalg, save_npz\n",
    "from numpy import savez_compressed, random\n",
    "\n",
    "\n",
    "def gen_sparse_Hamiltonian(size=4, hopping=1.5, disorder_strength=1.2, seed=42):\n",
    "    '''\n",
    "    Build a sparse matrix (Hamiltonian) and populates it with onsite energies and hopping terms\n",
    "    Returns: sparse Hamiltonion\n",
    "    '''\n",
    "\n",
    "    onsite = (random.uniform(size=size)-0.5) * disorder_strength\n",
    "\n",
    "    sparse_onsite = diags(onsite)\n",
    "\n",
    "    sparse_hop_over = eye(size, n=None, k=1, dtype=float, format=None)*hopping\n",
    "    sparse_hop_under = eye(size, n=None, k=-1, dtype=float, format=None)*hopping\n",
    "\n",
    "    hop_cor_upper = eye(size, n=None, k=(size-1), dtype=float, format=None)*hopping\n",
    "    hop_cor_lower = eye(size, n=None, k=-(size-1), dtype=float, format=None)*hopping\n",
    "\n",
    "    sparse_Hamiltonian = sparse_onsite + sparse_hop_over + sparse_hop_under + hop_cor_upper +hop_cor_lower\n",
    "\n",
    "    #print(spmatrix.todense(sparse_Hamiltonian))\n",
    "    return sparse_Hamiltonian\n",
    "\n",
    "def diag_sparse(sparse_hamiltonian, k=3):\n",
    "    (eigvals, eigvecs) =  linalg.eigsh(sparse_hamiltonian, k=k)\n",
    "    return eigvals,eigvecs.T\n",
    "\n",
    "def build_solve_save(filename, k=3, size=4, hopping=1.5, disorder_strength=1.2, seed=42):\n",
    "    H_sparse = gen_sparse_Hamiltonian(size, hopping, disorder_strength, seed)\n",
    "    eigvals,eigvecs = diag_sparse(H_sparse, k)\n",
    "    \n",
    "    save_npz(filename+str(seed)+'H.npz', H_sparse, compressed=True)\n",
    "    savez_compressed(filename+str(seed)+'eigvals.npz')\n",
    "    savez_compressed(filename+str(seed)+'eigvecs.npz')\n",
    "    \n",
    "\n",
    "build_solve_save('test')\n"
   ]
  },
  {
   "cell_type": "code",
   "execution_count": null,
   "metadata": {},
   "outputs": [],
   "source": []
  }
 ],
 "metadata": {
  "kernelspec": {
   "display_name": "Python 3",
   "language": "python",
   "name": "python3"
  },
  "language_info": {
   "codemirror_mode": {
    "name": "ipython",
    "version": 3
   },
   "file_extension": ".py",
   "mimetype": "text/x-python",
   "name": "python",
   "nbconvert_exporter": "python",
   "pygments_lexer": "ipython3",
   "version": "3.7.5"
  }
 },
 "nbformat": 4,
 "nbformat_minor": 4
}
