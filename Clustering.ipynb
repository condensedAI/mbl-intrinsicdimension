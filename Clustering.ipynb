{
 "cells": [
  {
   "cell_type": "markdown",
   "metadata": {},
   "source": [
    "# Clustering"
   ]
  },
  {
   "cell_type": "code",
   "execution_count": 1,
   "metadata": {},
   "outputs": [
    {
     "name": "stderr",
     "output_type": "stream",
     "text": [
      "100%|██████████| 20/20 [02:06<00:00,  6.31s/it]\n"
     ]
    },
    {
     "data": {
      "text/plain": [
       "((840, 924, 924), (840, 853776), (840, 924))"
      ]
     },
     "execution_count": 1,
     "metadata": {},
     "output_type": "execute_result"
    }
   ],
   "source": [
    "# Lets as usual start by loading some data,\n",
    "# this time we will need both eigen-vectors and values\n",
    "\n",
    "import numpy as np\n",
    "from tqdm import tqdm\n",
    "\n",
    "\n",
    "def load_eigs_npz(filename='results/results-L-2-W-0.1-seed-0.npz'):\n",
    "    data = np.load(filename)\n",
    "    eigvals = data[data.files[0]]\n",
    "    eigvecs = data[data.files[1]]\n",
    "\n",
    "    return eigvals, eigvecs.T\n",
    "\n",
    "Files = []\n",
    "\n",
    "Ls, num_seeds = [12], 42\n",
    "ws = [0.3, 0.6, 0.8999999999999999, 1.2,  1.5, 1.8, 2.0999999999999996, 2.4, 2.6999999999999997, 2.9999999999999996, 3.3, 3.5999999999999996, 3.8999999999999995, 4.2, 4.5, 4.8, 5.1,5.3999999999999995, 5.699999999999999, 6.0]\n",
    "\n",
    "vecs, vecs_flat, vals = [], [], []\n",
    "for L in Ls:\n",
    "    for w in tqdm(ws):\n",
    "        files = []\n",
    "        for seed in range(num_seeds):\n",
    "            file = '/Users/antongolles/results1/results-L-{}-W-{}-seed-{}.npz'.format(L,w,seed)\n",
    "            eigvals, eigvecs = load_eigs_npz(file)\n",
    "            vecs.append(eigvecs)\n",
    "            vecs_flat.append(eigvecs.flatten())\n",
    "            vals.append(eigvals)\n",
    "\n",
    "vecs, vecs_flat, vals = np.array(vecs), np.array(vecs_flat), np.array(vals)\n",
    "np.shape(vecs), np.shape(vecs_flat), np.shape(vals)"
   ]
  },
  {
   "cell_type": "code",
   "execution_count": 2,
   "metadata": {},
   "outputs": [],
   "source": [
    "from sklearn.cluster import AffinityPropagation, Birch, SpectralClustering, MeanShift\n",
    "from sklearn.cluster import AgglomerativeClustering, DBSCAN, OPTICS, KMeans\n",
    "\n",
    "#Kmeans on both, optics on vecs, meanshift on vals\n",
    "\n",
    "def run_clustering(X, which=['KMeans', 'optics', 'meanshift']):\n",
    "    results = []\n",
    "    if which == 'all':\n",
    "        which=['KMeans', 'Affinity Propagation', 'Birch', 'Spectral Clustering', \n",
    "               'Agglomerative Clustering', 'DBSCAN', 'MeanShift', 'OPTICS']\n",
    "    if 'KMeans' in which:\n",
    "        kmeans = KMeans(2, verbose=1).fit(abs(np.array(X)))\n",
    "        results.append(kmeans.labels_)\n",
    "    if 'Affinity Propagation' in which:\n",
    "        affinityPropagation = AffinityPropagation(random_state=5, damping=.99).fit(X)\n",
    "        results.append(affinityPropagation.labels_)\n",
    "    if 'Birch' in which:\n",
    "        brc = Birch(n_clusters=2)\n",
    "        brc.fit(X)\n",
    "        birch_labels = brc.predict(X)\n",
    "        results.append(birch_labels)\n",
    "    if 'Spectral Clustering' in which:\n",
    "        spectralClustering = SpectralClustering(n_clusters=2,\n",
    "                                                assign_labels=\"discretize\",\n",
    "                                                random_state=0).fit(X)\n",
    "        results.append(spectralClustering.labels_)\n",
    "    if 'Agglomerative Clustering' in which:\n",
    "        agglomerativeClustering = AgglomerativeClustering().fit(X)\n",
    "        results.append(agglomerativeClustering.labels_)\n",
    "    if 'DBSCAN' in which:\n",
    "        db = DBSCAN(eps=3, min_samples=8,leaf_size=10).fit(X)\n",
    "        results.append(db.labels_)\n",
    "    if 'MeanShift' in which:\n",
    "        meanShift = MeanShift(bandwidth=20).fit(X)\n",
    "        results.append(meanShift.labels_)\n",
    "    if 'OPTICS' in which:\n",
    "        optics = OPTICS(min_samples=2).fit(X)\n",
    "        results.append(optics.labels_)\n",
    "        \n",
    "    return np.array(results), which"
   ]
  },
  {
   "cell_type": "code",
   "execution_count": 3,
   "metadata": {
    "scrolled": true
   },
   "outputs": [
    {
     "name": "stdout",
     "output_type": "stream",
     "text": [
      "Initialization complete\n",
      "Iteration 0, inertia 1144783.4314896255\n",
      "Iteration 1, inertia 678072.9918561771\n",
      "Iteration 2, inertia 655446.1866214693\n",
      "Iteration 3, inertia 650082.2760276446\n",
      "Iteration 4, inertia 649272.8315792396\n",
      "Iteration 5, inertia 649153.2753837939\n",
      "Iteration 6, inertia 649095.0312889509\n",
      "Iteration 7, inertia 649085.4002301348\n",
      "Converged at iteration 7: center shift 1.5356467438172636e-31 within tolerance 9.5609543851773e-08\n",
      "Initialization complete\n",
      "Iteration 0, inertia 1169314.8571074835\n",
      "Iteration 1, inertia 683573.4683372094\n",
      "Iteration 2, inertia 683470.8343525005\n",
      "Converged at iteration 2: center shift 1.7382446538575934e-30 within tolerance 9.5609543851773e-08\n",
      "Initialization complete\n",
      "Iteration 0, inertia 1221944.9418789307\n",
      "Iteration 1, inertia 683399.7614340498\n",
      "Converged at iteration 1: center shift 1.5694146627878723e-30 within tolerance 9.5609543851773e-08\n",
      "Initialization complete\n",
      "Iteration 0, inertia 1144117.392590464\n",
      "Iteration 1, inertia 679607.0639767182\n",
      "Iteration 2, inertia 655829.5208449659\n",
      "Iteration 3, inertia 650025.8246413447\n",
      "Iteration 4, inertia 649252.4217559528\n",
      "Iteration 5, inertia 649145.2180010941\n",
      "Iteration 6, inertia 649095.0312889509\n",
      "Iteration 7, inertia 649085.4002301348\n",
      "Converged at iteration 7: center shift 1.5487140382508254e-31 within tolerance 9.5609543851773e-08\n",
      "Initialization complete\n",
      "Iteration 0, inertia 1176760.4642588885\n",
      "Iteration 1, inertia 683515.2914017804\n",
      "Converged at iteration 1: center shift 1.2805053434952544e-30 within tolerance 9.5609543851773e-08\n",
      "Initialization complete\n",
      "Iteration 0, inertia 1146097.254851786\n",
      "Iteration 1, inertia 683734.4852696378\n",
      "Converged at iteration 1: center shift 0.0 within tolerance 9.5609543851773e-08\n",
      "Initialization complete\n",
      "Iteration 0, inertia 1141070.798806185\n",
      "Iteration 1, inertia 682404.5473939275\n",
      "Iteration 2, inertia 680268.7876799818\n",
      "Iteration 3, inertia 657788.9454426153\n",
      "Iteration 4, inertia 649384.6748629501\n",
      "Iteration 5, inertia 649171.0938478233\n",
      "Iteration 6, inertia 649105.9377122165\n",
      "Iteration 7, inertia 649095.0312889509\n",
      "Iteration 8, inertia 649085.4002301348\n",
      "Converged at iteration 8: center shift 1.432090410668845e-31 within tolerance 9.5609543851773e-08\n",
      "Initialization complete\n",
      "Iteration 0, inertia 1173202.4603013706\n",
      "Iteration 1, inertia 681290.3550940556\n",
      "Iteration 2, inertia 660586.3163684948\n",
      "Iteration 3, inertia 649956.3678663267\n",
      "Iteration 4, inertia 649233.5944458141\n",
      "Iteration 5, inertia 649137.5562465653\n",
      "Iteration 6, inertia 649095.0312889509\n",
      "Iteration 7, inertia 649085.4002301348\n",
      "Converged at iteration 7: center shift 1.9407072244205312e-31 within tolerance 9.5609543851773e-08\n",
      "Initialization complete\n",
      "Iteration 0, inertia 1300206.9243955251\n",
      "Iteration 1, inertia 683290.2071159837\n",
      "Converged at iteration 1: center shift 1.4804804499276594e-30 within tolerance 9.5609543851773e-08\n",
      "Initialization complete\n",
      "Iteration 0, inertia 1156482.5048563331\n",
      "Iteration 1, inertia 683362.0331054397\n",
      "Converged at iteration 1: center shift 1.6159359402093547e-30 within tolerance 9.5609543851773e-08\n",
      "Initialization complete\n",
      "Iteration 0, inertia 7500929.9765596\n",
      "Iteration 1, inertia 5617660.5728684785\n",
      "Iteration 2, inertia 5387248.003844541\n",
      "Iteration 3, inertia 5302544.358141641\n",
      "Iteration 4, inertia 5275008.59212835\n",
      "Iteration 5, inertia 5269134.81483474\n",
      "Iteration 6, inertia 5266374.9532904355\n",
      "Iteration 7, inertia 5265075.407891978\n",
      "Iteration 8, inertia 5264671.8926516175\n",
      "Converged at iteration 8: center shift 2.1951742960973164e-28 within tolerance 0.0011430792686365108\n",
      "Initialization complete\n",
      "Iteration 0, inertia 8951363.247429492\n",
      "Iteration 1, inertia 6897776.476611317\n",
      "Iteration 2, inertia 6827096.951543691\n",
      "Iteration 3, inertia 6658618.650552265\n",
      "Iteration 4, inertia 6448459.682364639\n",
      "Iteration 5, inertia 6406996.727342505\n",
      "Iteration 6, inertia 6383636.5044811955\n",
      "Iteration 7, inertia 6372596.184663617\n",
      "Iteration 8, inertia 6365159.612494417\n",
      "Iteration 9, inertia 6361829.021116367\n",
      "Iteration 10, inertia 6358239.784251256\n",
      "Iteration 11, inertia 6357517.858214862\n",
      "Iteration 12, inertia 6356536.444056385\n",
      "Iteration 13, inertia 6355776.4127707025\n",
      "Iteration 14, inertia 6355403.373083999\n",
      "Iteration 15, inertia 6355100.465203355\n",
      "Iteration 16, inertia 6354761.166918233\n",
      "Iteration 17, inertia 6354325.294797453\n",
      "Iteration 18, inertia 6353912.674234957\n",
      "Converged at iteration 18: center shift 9.146863810087359e-29 within tolerance 0.0011430792686365108\n",
      "Initialization complete\n",
      "Iteration 0, inertia 14756854.089711748\n",
      "Iteration 1, inertia 6358405.158216948\n",
      "Iteration 2, inertia 6357517.858214862\n",
      "Iteration 3, inertia 6356536.444056385\n",
      "Iteration 4, inertia 6355776.4127707025\n",
      "Iteration 5, inertia 6355403.373083999\n",
      "Iteration 6, inertia 6355100.465203355\n",
      "Iteration 7, inertia 6354761.166918233\n",
      "Iteration 8, inertia 6354325.294797453\n",
      "Iteration 9, inertia 6353912.674234957\n",
      "Converged at iteration 9: center shift 9.146863810087359e-29 within tolerance 0.0011430792686365108\n",
      "Initialization complete\n",
      "Iteration 0, inertia 12659099.37099005\n",
      "Iteration 1, inertia 6138269.280023723\n",
      "Iteration 2, inertia 5599311.44953025\n",
      "Iteration 3, inertia 5378542.530965328\n",
      "Iteration 4, inertia 5297648.46598885\n",
      "Iteration 5, inertia 5273417.386336136\n",
      "Iteration 6, inertia 5267931.335575423\n",
      "Iteration 7, inertia 5266001.85217776\n",
      "Iteration 8, inertia 5264849.819555429\n",
      "Iteration 9, inertia 5264671.8926516175\n",
      "Converged at iteration 9: center shift 2.1951742960973164e-28 within tolerance 0.0011430792686365108\n",
      "Initialization complete\n",
      "Iteration 0, inertia 6964491.431606129\n",
      "Iteration 1, inertia 5314581.672251982\n",
      "Iteration 2, inertia 5277446.467504925\n",
      "Iteration 3, inertia 5270483.901289523\n",
      "Iteration 4, inertia 5266374.9532904355\n",
      "Iteration 5, inertia 5265075.407891978\n",
      "Iteration 6, inertia 5264671.8926516175\n",
      "Converged at iteration 6: center shift 1.9132885845691429e-28 within tolerance 0.0011430792686365108\n",
      "Initialization complete\n",
      "Iteration 0, inertia 7551435.796922897\n",
      "Iteration 1, inertia 6535592.148296553\n",
      "Iteration 2, inertia 6457080.414949236\n",
      "Iteration 3, inertia 6413186.688708554\n",
      "Iteration 4, inertia 6388123.539060406\n",
      "Iteration 5, inertia 6373360.813276848\n",
      "Iteration 6, inertia 6365159.612494417\n",
      "Iteration 7, inertia 6361829.021116367\n",
      "Iteration 8, inertia 6358239.784251256\n",
      "Iteration 9, inertia 6357517.858214862\n",
      "Iteration 10, inertia 6356536.444056385\n",
      "Iteration 11, inertia 6355776.4127707025\n",
      "Iteration 12, inertia 6355403.373083999\n",
      "Iteration 13, inertia 6355100.465203355\n",
      "Iteration 14, inertia 6354761.166918233\n",
      "Iteration 15, inertia 6354325.294797453\n",
      "Iteration 16, inertia 6353912.674234957\n",
      "Converged at iteration 16: center shift 9.384384969738805e-29 within tolerance 0.0011430792686365108\n",
      "Initialization complete\n",
      "Iteration 0, inertia 6984531.9391902555\n",
      "Iteration 1, inertia 5273264.639486552\n",
      "Iteration 2, inertia 5266303.953729685\n",
      "Iteration 3, inertia 5265257.156104959\n",
      "Iteration 4, inertia 5264908.9077362465\n",
      "Iteration 5, inertia 5264781.509900644\n",
      "Iteration 6, inertia 5264721.944870459\n",
      "Iteration 7, inertia 5264671.8926516175\n",
      "Converged at iteration 7: center shift 0.0 within tolerance 0.0011430792686365108\n",
      "Initialization complete\n",
      "Iteration 0, inertia 7705121.52071798\n",
      "Iteration 1, inertia 5705908.622162225\n",
      "Iteration 2, inertia 5424558.027031459\n",
      "Iteration 3, inertia 5309317.51103354\n",
      "Iteration 4, inertia 5279454.614635739\n",
      "Iteration 5, inertia 5268258.233101396\n",
      "Iteration 6, inertia 5265539.222930634\n",
      "Iteration 7, inertia 5265257.156104959\n",
      "Iteration 8, inertia 5264908.9077362465\n",
      "Iteration 9, inertia 5264781.509900645\n",
      "Iteration 10, inertia 5264721.944870459\n",
      "Iteration 11, inertia 5264671.8926516175\n",
      "Converged at iteration 11: center shift 2.2539713724813794e-28 within tolerance 0.0011430792686365108\n",
      "Initialization complete\n",
      "Iteration 0, inertia 7942344.660865221\n",
      "Iteration 1, inertia 5297047.9705618145\n",
      "Iteration 2, inertia 5271676.795233016\n",
      "Iteration 3, inertia 5266420.115907504\n",
      "Iteration 4, inertia 5265392.26074655\n",
      "Iteration 5, inertia 5265257.156104959\n",
      "Iteration 6, inertia 5264908.9077362465\n",
      "Iteration 7, inertia 5264781.509900644\n",
      "Iteration 8, inertia 5264721.944870459\n",
      "Iteration 9, inertia 5264671.8926516175\n",
      "Converged at iteration 9: center shift 1.9132885845691429e-28 within tolerance 0.0011430792686365108\n",
      "Initialization complete\n",
      "Iteration 0, inertia 8401045.652775088\n",
      "Iteration 1, inertia 6840559.966967806\n",
      "Iteration 2, inertia 6610888.490229873\n",
      "Iteration 3, inertia 6495096.236772997\n",
      "Iteration 4, inertia 6436994.524744383\n",
      "Iteration 5, inertia 6398840.3900162475\n",
      "Iteration 6, inertia 6378708.141798953\n",
      "Iteration 7, inertia 6370069.138333284\n",
      "Iteration 8, inertia 6364541.30126919\n",
      "Iteration 9, inertia 6360996.486515337\n",
      "Iteration 10, inertia 6357983.902976515\n",
      "Iteration 11, inertia 6357517.858214862\n",
      "Iteration 12, inertia 6356536.444056385\n",
      "Iteration 13, inertia 6355776.4127707025\n",
      "Iteration 14, inertia 6355403.373083999\n",
      "Iteration 15, inertia 6355100.465203355\n",
      "Iteration 16, inertia 6354761.166918233\n",
      "Iteration 17, inertia 6354325.294797453\n",
      "Iteration 18, inertia 6353912.674234957\n",
      "Converged at iteration 18: center shift 8.770882242903403e-29 within tolerance 0.0011430792686365108\n"
     ]
    }
   ],
   "source": [
    "\n",
    "results_vecs, which_vecs = run_clustering(vecs_flat, ['KMeans'])\n",
    "results_vals, which_vals = run_clustering(vals, ['KMeans'])"
   ]
  },
  {
   "cell_type": "code",
   "execution_count": 48,
   "metadata": {},
   "outputs": [],
   "source": [
    "results = np.vstack([results_vals, results_vecs])\n",
    "results = results_vecs.copy()"
   ]
  },
  {
   "cell_type": "code",
   "execution_count": 49,
   "metadata": {},
   "outputs": [
    {
     "data": {
      "text/plain": [
       "(42, 20)"
      ]
     },
     "execution_count": 49,
     "metadata": {},
     "output_type": "execute_result"
    }
   ],
   "source": [
    "results = results.reshape(20,42).T\n",
    "np.shape(results)"
   ]
  },
  {
   "cell_type": "code",
   "execution_count": 50,
   "metadata": {},
   "outputs": [],
   "source": [
    "xticks = [round(w,2) for w in ws]\n",
    "def func(a):\n",
    "    if a % 0.6 <= 0.1:\n",
    "        return ' '\n",
    "    else:\n",
    "        return a\n",
    "xticks = [func(w) for w in xticks]\n",
    "\n",
    "\n"
   ]
  },
  {
   "cell_type": "code",
   "execution_count": 1,
   "metadata": {},
   "outputs": [
    {
     "ename": "NameError",
     "evalue": "name 'results' is not defined",
     "output_type": "error",
     "traceback": [
      "\u001b[0;31m---------------------------------------------------------------------------\u001b[0m",
      "\u001b[0;31mNameError\u001b[0m                                 Traceback (most recent call last)",
      "\u001b[0;32m<ipython-input-1-7027ce1aba4b>\u001b[0m in \u001b[0;36m<module>\u001b[0;34m\u001b[0m\n\u001b[1;32m      1\u001b[0m \u001b[0;32mimport\u001b[0m \u001b[0mseaborn\u001b[0m \u001b[0;32mas\u001b[0m \u001b[0msns\u001b[0m\u001b[0;34m\u001b[0m\u001b[0;34m\u001b[0m\u001b[0m\n\u001b[1;32m      2\u001b[0m \u001b[0;32mimport\u001b[0m \u001b[0mmatplotlib\u001b[0m\u001b[0;34m.\u001b[0m\u001b[0mpyplot\u001b[0m \u001b[0;32mas\u001b[0m \u001b[0mplt\u001b[0m\u001b[0;34m\u001b[0m\u001b[0;34m\u001b[0m\u001b[0m\n\u001b[0;32m----> 3\u001b[0;31m sns.heatmap(results, cbar=False,\n\u001b[0m\u001b[1;32m      4\u001b[0m                 \u001b[0mcmap\u001b[0m\u001b[0;34m=\u001b[0m\u001b[0;34m'viridis_r'\u001b[0m\u001b[0;34m,\u001b[0m\u001b[0;34m\u001b[0m\u001b[0;34m\u001b[0m\u001b[0m\n\u001b[1;32m      5\u001b[0m                 \u001b[0;31m#xticklabels=xticks,\u001b[0m\u001b[0;34m\u001b[0m\u001b[0;34m\u001b[0m\u001b[0;34m\u001b[0m\u001b[0m\n",
      "\u001b[0;31mNameError\u001b[0m: name 'results' is not defined"
     ]
    }
   ],
   "source": [
    "import seaborn as sns\n",
    "import matplotlib.pyplot as plt\n",
    "sns.heatmap(results, cbar=False,\n",
    "                cmap='viridis_r',  \n",
    "                xticklabels=xticks,\n",
    "               yticklabels=yticks,\n",
    "           alpha=.8)\n",
    "    #plt.show()\n",
    "plt.xlabel('Disorder Strength, $W$', fontsize=12)\n",
    "plt.ylabel('Disorder Realization', fontsize=12)\n",
    "plt.title('kMeans on flattend eigenvecors, L =12', fontsize=14)\n",
    "plt.text(0.5, 22, 'Thermalized', fontsize=14,c='midnightblue',  family='monospace')\n",
    "plt.text(12.9, 22, 'Localized', fontsize=20, c='yellow', family='monospace')\n",
    "plt.savefig('figures/clustering_RAW.png', dpi=500, bbox_inches='tight')"
   ]
  },
  {
   "cell_type": "code",
   "execution_count": 76,
   "metadata": {},
   "outputs": [
    {
     "name": "stdout",
     "output_type": "stream",
     "text": [
      "(1, 840)\n",
      "(1, 20)\n"
     ]
    }
   ],
   "source": [
    "# We have run for many seeds, so lets average the results\n",
    "def get_means(results_for_many_seeds):\n",
    "    print(np.shape(results_for_many_seeds))\n",
    "    results = results_for_many_seeds\n",
    "    means = []\n",
    "    stds = []\n",
    "    for index,i in enumerate(results):\n",
    "        reformatted_result = i.reshape(len(ws), num_seeds)\n",
    "        #print(np.shape(reformatted_result))\n",
    "        mean = np.mean(reformatted_result, axis=1)\n",
    "        std1 = np.std(reformatted_result, axis=1)\n",
    "        #print(np.shape(mean))\n",
    "        #print(mean)\n",
    "        means.append(mean)\n",
    "        stds.append(std1)\n",
    "    return np.array(means), np.array(stds)\n",
    "means, stds = get_means(results_vecs)\n",
    "print(np.shape(means))"
   ]
  },
  {
   "cell_type": "code",
   "execution_count": 86,
   "metadata": {},
   "outputs": [
    {
     "data": {
      "image/png": "[encoded data removed]",
      "text/plain": [
       "<Figure size 432x288 with 1 Axes>"
      ]
     },
     "metadata": {
      "needs_background": "light"
     },
     "output_type": "display_data"
    }
   ],
   "source": [
    "import matplotlib.pyplot as plt\n",
    "plt.figure()\n",
    "colors = 'salmon, yellowgreen, orange, black, red, lightblue'.split(', ')\n",
    "\n",
    "which = ['vals', 'vecs'][::-1]\n",
    "for mean, std, label, color in zip(means, stds, which, colors):\n",
    "    #plt.errorbar(ws,i/max(i), label=label)\n",
    "    plt.errorbar(ws, mean, std, xerr=None, \n",
    "                 label=label, \n",
    "                 c=color, lw=2)\n",
    "    \n",
    "plt.legend(fontsize=12)\n",
    "\n",
    "plt.title('Avg. cluster assignation per disorder', fontsize=14)\n",
    "plt.xlabel('Disorder strength', fontsize=12)\n",
    "plt.ylabel('Mean clustering label', fontsize=12)\n",
    "#plt.ylim([-0.1,1.1])\n",
    "plt.savefig('figures/clustering_means.png', dpi=500, bbox_inches='tight')"
   ]
  },
  {
   "cell_type": "code",
   "execution_count": 81,
   "metadata": {},
   "outputs": [
    {
     "name": "stdout",
     "output_type": "stream",
     "text": [
      "0.0 0.3\n",
      "0.0 0.6\n",
      "0.0 0.8999999999999999\n",
      "0.0 1.2\n",
      "0.0 1.5\n",
      "0.21428571428571427 1.8\n",
      "0.5952380952380952 2.0999999999999996\n",
      "0.8095238095238095 2.4\n",
      "0.8571428571428571 2.6999999999999997\n",
      "0.9047619047619048 2.9999999999999996\n",
      "0.9761904761904762 3.3\n",
      "1.0 3.5999999999999996\n",
      "1.0 3.8999999999999995\n",
      "1.0 4.2\n",
      "1.0 4.5\n",
      "1.0 4.8\n",
      "1.0 5.1\n",
      "1.0 5.3999999999999995\n",
      "1.0 5.699999999999999\n",
      "1.0 6.0\n"
     ]
    }
   ],
   "source": [
    "for w, val in zip(ws,mean):\n",
    "    print(val,w)# 1.5 - 3.6\n",
    "    # 2.55 +- 1.05 "
   ]
  },
  {
   "cell_type": "code",
   "execution_count": 5,
   "metadata": {},
   "outputs": [
    {
     "data": {
      "text/plain": [
       "1"
      ]
     },
     "execution_count": 5,
     "metadata": {},
     "output_type": "execute_result"
    }
   ],
   "source": [
    "sum([i<0 for i in L])"
   ]
  }
 ],
 "metadata": {
  "kernelspec": {
   "display_name": "Python 3",
   "language": "python",
   "name": "python3"
  },
  "language_info": {
   "codemirror_mode": {
    "name": "ipython",
    "version": 3
   },
   "file_extension": ".py",
   "mimetype": "text/x-python",
   "name": "python",
   "nbconvert_exporter": "python",
   "pygments_lexer": "ipython3",
   "version": "3.7.5"
  }
 },
 "nbformat": 4,
 "nbformat_minor": 4
}
